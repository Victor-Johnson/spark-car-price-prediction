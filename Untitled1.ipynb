{
 "cells": [
  {
   "cell_type": "code",
   "execution_count": 2,
   "id": "4c25d9e3-b960-4db8-9e5c-a9042e396fa3",
   "metadata": {},
   "outputs": [
    {
     "name": "stdout",
     "output_type": "stream",
     "text": [
      " audi.csv     focus.csv    merc.csv    'unclean cclass.csv'   vw.csv\n",
      " bmw.csv      ford.csv\t   skoda.csv   'unclean focus.csv'\n",
      " cclass.csv   hyundi.csv   toyota.csv   vauxhall.csv\n"
     ]
    }
   ],
   "source": [
    "! ls data/"
   ]
  },
  {
   "cell_type": "code",
   "execution_count": null,
   "id": "0dc89e54-8792-48e5-b307-cb9fff84623d",
   "metadata": {},
   "outputs": [],
   "source": []
  }
 ],
 "metadata": {
  "kernelspec": {
   "display_name": "Python (dateng)",
   "language": "python",
   "name": "dateng"
  },
  "language_info": {
   "codemirror_mode": {
    "name": "ipython",
    "version": 3
   },
   "file_extension": ".py",
   "mimetype": "text/x-python",
   "name": "python",
   "nbconvert_exporter": "python",
   "pygments_lexer": "ipython3",
   "version": "3.13.7"
  }
 },
 "nbformat": 4,
 "nbformat_minor": 5
}
